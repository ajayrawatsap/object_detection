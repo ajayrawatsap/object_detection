{
  "nbformat": 4,
  "nbformat_minor": 0,
  "metadata": {
    "colab": {
      "name": "yolo_train_tf_wizyoung.ipynb",
      "provenance": [],
      "collapsed_sections": [],
      "include_colab_link": true
    },
    "kernelspec": {
      "name": "python3",
      "display_name": "Python 3"
    },
    "accelerator": "GPU"
  },
  "cells": [
    {
      "cell_type": "markdown",
      "metadata": {
        "id": "view-in-github",
        "colab_type": "text"
      },
      "source": [
        "<a href=\"https://colab.research.google.com/github/ajayrawatsap/object_detection/blob/master/yolo_train_tf_wizyoung.ipynb\" target=\"_parent\"><img src=\"https://colab.research.google.com/assets/colab-badge.svg\" alt=\"Open In Colab\"/></a>"
      ]
    },
    {
      "cell_type": "code",
      "metadata": {
        "id": "Em-FO2TsXeuv",
        "colab_type": "code",
        "outputId": "dab757f6-393d-4690-fb76-4ecf302817f0",
        "colab": {
          "base_uri": "https://localhost:8080/",
          "height": 113
        }
      },
      "source": [
        "import sys\n",
        "import tensorflow\n",
        "print('python version:', sys.version)\n",
        "print('Tensorflow Version', tensorflow.__version__)"
      ],
      "execution_count": 1,
      "outputs": [
        {
          "output_type": "display_data",
          "data": {
            "text/html": [
              "<p style=\"color: red;\">\n",
              "The default version of TensorFlow in Colab will soon switch to TensorFlow 2.x.<br>\n",
              "We recommend you <a href=\"https://www.tensorflow.org/guide/migrate\" target=\"_blank\">upgrade</a> now \n",
              "or ensure your notebook will continue to use TensorFlow 1.x via the <code>%tensorflow_version 1.x</code> magic:\n",
              "<a href=\"https://colab.research.google.com/notebooks/tensorflow_version.ipynb\" target=\"_blank\">more info</a>.</p>\n"
            ],
            "text/plain": [
              "<IPython.core.display.HTML object>"
            ]
          },
          "metadata": {
            "tags": []
          }
        },
        {
          "output_type": "stream",
          "text": [
            "python version: 3.6.8 (default, Oct  7 2019, 12:59:55) \n",
            "[GCC 8.3.0]\n",
            "Tensorflow Version 1.15.0\n"
          ],
          "name": "stdout"
        }
      ]
    },
    {
      "cell_type": "code",
      "metadata": {
        "id": "nf8rdLjHYsD3",
        "colab_type": "code",
        "colab": {}
      },
      "source": [
        "from tensorflow.python.client import device_lib\n",
        "# print(device_lib.list_local_devices())"
      ],
      "execution_count": 0,
      "outputs": []
    },
    {
      "cell_type": "code",
      "metadata": {
        "id": "JL2Q_DvIBXOU",
        "colab_type": "code",
        "outputId": "08f6f901-1558-4083-ddf1-446ee4c29066",
        "colab": {
          "base_uri": "https://localhost:8080/",
          "height": 134
        }
      },
      "source": [
        "import os\n",
        "import matplotlib.pyplot as plt\n",
        "\n",
        "\n",
        "! git clone https://github.com/ajayrawatsap/YOLOv3_TensorFlow\n"
      ],
      "execution_count": 3,
      "outputs": [
        {
          "output_type": "stream",
          "text": [
            "Cloning into 'YOLOv3_TensorFlow'...\n",
            "remote: Enumerating objects: 6, done.\u001b[K\n",
            "remote: Counting objects: 100% (6/6), done.\u001b[K\n",
            "remote: Compressing objects: 100% (6/6), done.\u001b[K\n",
            "remote: Total 228 (delta 1), reused 0 (delta 0), pack-reused 222\u001b[K\n",
            "Receiving objects: 100% (228/228), 3.16 MiB | 2.43 MiB/s, done.\n",
            "Resolving deltas: 100% (128/128), done.\n"
          ],
          "name": "stdout"
        }
      ]
    },
    {
      "cell_type": "code",
      "metadata": {
        "id": "IUtn4IfCZmjr",
        "colab_type": "code",
        "outputId": "a028b4ab-7828-4160-81aa-8eec2ad5306f",
        "colab": {
          "base_uri": "https://localhost:8080/",
          "height": 121
        }
      },
      "source": [
        "from google.colab import drive\n",
        "drive.mount('/content/drive')"
      ],
      "execution_count": 4,
      "outputs": [
        {
          "output_type": "stream",
          "text": [
            "Go to this URL in a browser: https://accounts.google.com/o/oauth2/auth?client_id=947318989803-6bn6qk8qdgf4n4g3pfee6491hc0brc4i.apps.googleusercontent.com&redirect_uri=urn%3Aietf%3Awg%3Aoauth%3A2.0%3Aoob&scope=email%20https%3A%2F%2Fwww.googleapis.com%2Fauth%2Fdocs.test%20https%3A%2F%2Fwww.googleapis.com%2Fauth%2Fdrive%20https%3A%2F%2Fwww.googleapis.com%2Fauth%2Fdrive.photos.readonly%20https%3A%2F%2Fwww.googleapis.com%2Fauth%2Fpeopleapi.readonly&response_type=code\n",
            "\n",
            "Enter your authorization code:\n",
            "··········\n",
            "Mounted at /content/drive\n"
          ],
          "name": "stdout"
        }
      ]
    },
    {
      "cell_type": "code",
      "metadata": {
        "id": "_yCl0fcpzaDJ",
        "colab_type": "code",
        "colab": {}
      },
      "source": [
        "!cp -r '/content/drive/My Drive/ML/pothole_detection/train_data.zip' '/content/'\n",
        "!unzip 'train_data.zip' -d  '/content/'"
      ],
      "execution_count": 0,
      "outputs": []
    },
    {
      "cell_type": "code",
      "metadata": {
        "id": "WcLJ3iJOc7S3",
        "colab_type": "code",
        "colab": {}
      },
      "source": [
        "os.chdir('/content/YOLOv3_TensorFlow')\n",
        "from voc_to_yolo import convert_voc_yolo\n",
        "\n",
        "data_path = '/content/train_data/'\n",
        "annot_txt_path = '/content/YOLOv3_TensorFlow/data/my_data'\n",
        "\n",
        "convert_voc_yolo(txt_path = os.path.join(annot_txt_path,'train.txt' ),\n",
        "                 annot_path = os.path.join(data_path,'train_annot' ),\n",
        "                 img_path = os.path.join(data_path,'train_images' ), \n",
        "                 class_names_path = os.path.join(data_path,'class_names.txt' ) \n",
        "                 )\n",
        "\n",
        "convert_voc_yolo(txt_path = os.path.join(annot_txt_path,'val.txt' ),\n",
        "                 annot_path = os.path.join(data_path,'valid_annot' ),\n",
        "                 img_path = os.path.join(data_path,'valid_images' ), \n",
        "                 class_names_path = os.path.join(data_path,'class_names.txt' ) \n",
        "                 )\n",
        "\n",
        "!cp '/content/train_data/class_names.txt' '/content/YOLOv3_TensorFlow/data/my_data/data.names'\n",
        "!cp '/content/YOLOv3_TensorFlow/data/my_data/train.txt' '/content/YOLOv3_TensorFlow/train.txt' "
      ],
      "execution_count": 0,
      "outputs": []
    },
    {
      "cell_type": "code",
      "metadata": {
        "id": "4WxEBLHXv_aX",
        "colab_type": "code",
        "outputId": "02e4b3f2-fb48-4767-b387-cd7f13f48d93",
        "colab": {
          "base_uri": "https://localhost:8080/",
          "height": 84
        }
      },
      "source": [
        "\n",
        "\n",
        "!python get_kmeans.py\n",
        "\n",
        "anchors_file = os.path.join(annot_txt_path, 'anchors.txt')\n",
        "f = open(anchors_file, 'w')\n",
        "f.write(\"12,5, 14,8, 20,8, 19,13, 26,11, 30,15, 40,19, 30,27, 58,26 \\n\")\n",
        "f.close()"
      ],
      "execution_count": 7,
      "outputs": [
        {
          "output_type": "stream",
          "text": [
            "anchors are:\n",
            "12,5, 13,8, 19,8, 24,13, 34,17, 30,27, 45,23, 58,24, 65,37\n",
            "the average iou is:\n",
            "0.7822123726135697\n"
          ],
          "name": "stdout"
        }
      ]
    },
    {
      "cell_type": "code",
      "metadata": {
        "id": "t55pzVl1_RmE",
        "colab_type": "code",
        "colab": {}
      },
      "source": [
        "!wget https://pjreddie.com/media/files/yolov3.weights  -O  ./data/darknet_weights/yolov3.weights\n",
        "!python convert_weight.py"
      ],
      "execution_count": 0,
      "outputs": []
    },
    {
      "cell_type": "markdown",
      "metadata": {
        "id": "z3VJw0nvZ466",
        "colab_type": "text"
      },
      "source": [
        "## Training\n"
      ]
    },
    {
      "cell_type": "code",
      "metadata": {
        "id": "4-Mh7FitiMlL",
        "colab_type": "code",
        "colab": {}
      },
      "source": [
        "import os\n",
        "os.chdir('/content/YOLOv3_TensorFlow')\n",
        "\n",
        "from utils.misc_utils import parse_anchors, read_class_names\n",
        "from __future__ import division, print_function\n",
        "import math\n",
        "\n",
        "class config:\n",
        "  def __init__(self):\n",
        "    \n",
        "    ### Some paths\n",
        "    self.train_file = './data/my_data/train.txt'  # The path of the training txt file.\n",
        "    self.val_file = './data/my_data/val.txt'  # The path of the validation txt file.\n",
        "    self.restore_path = './data/darknet_weights/yolov3.ckpt'  # The path of the weights to restore.\n",
        "    self.save_dir = './checkpoint/'  # The directory of the weights to save.\n",
        "    self.log_dir = './data/logs/'  # The directory to store the tensorboard log files.\n",
        "    self.progress_log_path = './data/progress.log'  # The path to record the training progress.\n",
        "    self.anchor_path = './data/my_data/anchors.txt'  # The path of the anchor txt file.\n",
        "    self.class_name_path = './data/my_data/data.names'  # The path of the class names.\n",
        "\n",
        "    ### Training releated numbers\n",
        "    self.batch_size = 6\n",
        "    self.img_size = [416, 416]  # Images will be resized to `img_size` and fed to the network, size format: [width, height]\n",
        "    self.letterbox_resize = True  # Whether to use the letterbox resize, i.e., keep the original aspect ratio in the resized image.\n",
        "    self.total_epoches = 100\n",
        "    self.train_evaluation_step = 100  # Evaluate on the training batch after some steps.\n",
        "    self.val_evaluation_epoch = 2  # Evaluate on the whole validation dataset after some epochs. Set to None to evaluate every epoch.\n",
        "    self.save_epoch = 10  # Save the model after some epochs.\n",
        "    self.batch_norm_decay = 0.99  # decay in bn ops\n",
        "    self.weight_decay = 5e-4  # l2 weight decay\n",
        "    self.global_step = 0  # used when resuming training\n",
        "\n",
        "    ### tf.data parameters\n",
        "    self.num_threads = 10  # Number of threads for image processing used in tf.data pipeline.\n",
        "    self.prefetech_buffer = 5  # Prefetech_buffer used in tf.data pipeline.\n",
        "\n",
        "    ### Learning rate and optimizer\n",
        "    self.optimizer_name = 'rmsprop' #'momentum'  # Chosen from [sgd, momentum, adam, rmsprop]\n",
        "    self.save_optimizer = True  # Whether to save the optimizer parameters into the checkpoint file.\n",
        "    self.learning_rate_init = 1e-4\n",
        "    self.lr_type = 'piecewise'  # Chosen from [fixed, exponential, cosine_decay, cosine_decay_restart, piecewise]\n",
        "    self.lr_decay_epoch = 5  # Epochs after which learning rate decays. Int or float. Used when chosen `exponential` and `cosine_decay_restart` lr_type.\n",
        "    self.lr_decay_factor = 0.96  # The learning rate decay factor. Used when chosen `exponential` lr_type.\n",
        "    self.lr_lower_bound = 1e-6  # The minimum learning rate.\n",
        "    # only used in piecewise lr type\n",
        "    self.pw_boundaries = [30, 50]  # epoch based boundaries\n",
        "    self.pw_values = [self.learning_rate_init, 3e-5, 1e-5]\n",
        "\n",
        "    ### Load and finetune\n",
        "    # Choose the parts you want to restore the weights. List form.\n",
        "    # restore_include: None, restore_exclude: None  => restore the whole model\n",
        "    # restore_include: None, restore_exclude: scope  => restore the whole model except `scope`\n",
        "    # restore_include: scope1, restore_exclude: scope2  => if scope1 contains scope2, restore scope1 and not restore scope2 (scope1 - scope2)\n",
        "    # choise 1: only restore the darknet body\n",
        "    # restore_include = ['yolov3/darknet53_body']\n",
        "    # restore_exclude = None\n",
        "    # choise 2: restore all layers except the last 3 conv2d layers in 3 scale\n",
        "    self.restore_include = None\n",
        "    self.restore_exclude = ['yolov3/yolov3_head/Conv_14', 'yolov3/yolov3_head/Conv_6', 'yolov3/yolov3_head/Conv_22']\n",
        "    # Choose the parts you want to finetune. List form.\n",
        "    # Set to None to train the whole model.\n",
        "    self.update_part = ['yolov3/yolov3_head']\n",
        "\n",
        "    ### other training strategies\n",
        "    self.multi_scale_train = True  # Whether to apply multi-scale training strategy. Image size varies from [320, 320] to [640, 640] by default.\n",
        "    self.use_label_smooth = False #True # Whether to use class label smoothing strategy.\n",
        "    self.use_focal_loss = True  # Whether to apply focal loss on the conf loss.\n",
        "    self.use_mix_up = False #True  # Whether to use mix up data augmentation strategy. \n",
        "    self.use_warm_up = True  # whether to use warm up strategy to prevent from gradient exploding.\n",
        "    self.warm_up_epoch = 3  # Warm up training epoches. Set to a larger value if gradient explodes.\n",
        "\n",
        "    ### some constants in validation\n",
        "    # nms\n",
        "    self.nms_threshold = 0.45  # iou threshold in nms operation\n",
        "    self.score_threshold = 0.3\n",
        "    # self.score_threshold = 0.01  # threshold of the probability of the classes in nms operation, i.e. score = pred_confs * pred_probs. set lower for higher recall.\n",
        "    # self.nms_topk = 150  # keep at most nms_topk outputs after nms\n",
        "    self.nms_topk = 10 #since I have at most 10 objects per image\n",
        "    # mAP eval\n",
        "    self.eval_threshold = 0.5  # the iou threshold applied in mAP evaluation\n",
        "    self.use_voc_07_metric = False  # whether to use voc 2007 evaluation metric, i.e. the 11-point metric\n",
        "\n",
        "    ### parse some params\n",
        "    self.anchors = parse_anchors(self.anchor_path)\n",
        "    self.classes = read_class_names(self.class_name_path)\n",
        "    self.class_num = len(self.classes)\n",
        "    self.train_img_cnt = len(open(self.train_file, 'r').readlines())\n",
        "    self.val_img_cnt = len(open(self.val_file, 'r').readlines())\n",
        "    self.train_batch_num = int(math.ceil(float(self.train_img_cnt) / self.batch_size))\n",
        "\n",
        "    self.lr_decay_freq = int(self.train_batch_num * self.lr_decay_epoch)\n",
        "    self.pw_boundaries = [float(i) * self.train_batch_num + self.global_step for i in self.pw_boundaries]"
      ],
      "execution_count": 0,
      "outputs": []
    },
    {
      "cell_type": "code",
      "metadata": {
        "id": "FSCiaOGdDqbu",
        "colab_type": "code",
        "colab": {
          "base_uri": "https://localhost:8080/",
          "height": 1000
        },
        "outputId": "9160c430-edc3-413a-ccff-e6e2ba1dc0b9"
      },
      "source": [
        "from __future__ import division, print_function\n",
        "\n",
        "import tensorflow as tf\n",
        "import numpy as np\n",
        "import logging\n",
        "from tqdm import trange\n",
        "\n",
        "# import args\n",
        "args = config()\n",
        "tf.reset_default_graph()\n",
        "\n",
        "from utils.data_utils import get_batch_data\n",
        "from utils.misc_utils import shuffle_and_overwrite, make_summary, config_learning_rate, config_optimizer, AverageMeter\n",
        "from utils.eval_utils import evaluate_on_cpu, evaluate_on_gpu, get_preds_gpu, voc_eval, parse_gt_rec\n",
        "from utils.nms_utils import gpu_nms\n",
        "\n",
        "from model import yolov3\n",
        "\n",
        "# setting loggers\n",
        "logging.basicConfig(level=logging.DEBUG, format='%(asctime)s %(levelname)s %(message)s',\n",
        "                    datefmt='%a, %d %b %Y %H:%M:%S', filename=args.progress_log_path, filemode='w')\n",
        "\n",
        "# setting placeholders\n",
        "is_training = tf.placeholder(tf.bool, name=\"phase_train\")\n",
        "handle_flag = tf.placeholder(tf.string, [], name='iterator_handle_flag')\n",
        "# register the gpu nms operation here for the following evaluation scheme\n",
        "pred_boxes_flag = tf.placeholder(tf.float32, [1, None, None])\n",
        "pred_scores_flag = tf.placeholder(tf.float32, [1, None, None])\n",
        "gpu_nms_op = gpu_nms(pred_boxes_flag, pred_scores_flag, args.class_num, args.nms_topk, args.score_threshold, args.nms_threshold)\n",
        "\n",
        "##################\n",
        "# tf.data pipeline\n",
        "##################\n",
        "train_dataset = tf.data.TextLineDataset(args.train_file)\n",
        "train_dataset = train_dataset.shuffle(args.train_img_cnt)\n",
        "train_dataset = train_dataset.batch(args.batch_size)\n",
        "train_dataset = train_dataset.map(\n",
        "    lambda x: tf.py_func(get_batch_data,\n",
        "                         inp=[x, args.class_num, args.img_size, args.anchors, 'train', args.multi_scale_train, args.use_mix_up, args.letterbox_resize],\n",
        "                         Tout=[tf.int64, tf.float32, tf.float32, tf.float32, tf.float32]),\n",
        "    num_parallel_calls=args.num_threads\n",
        ")\n",
        "train_dataset = train_dataset.prefetch(args.prefetech_buffer)\n",
        "\n",
        "val_dataset = tf.data.TextLineDataset(args.val_file)\n",
        "val_dataset = val_dataset.batch(1)\n",
        "val_dataset = val_dataset.map(\n",
        "    lambda x: tf.py_func(get_batch_data,\n",
        "                         inp=[x, args.class_num, args.img_size, args.anchors, 'val', False, False, args.letterbox_resize],\n",
        "                         Tout=[tf.int64, tf.float32, tf.float32, tf.float32, tf.float32]),\n",
        "    num_parallel_calls=args.num_threads\n",
        ")\n",
        "val_dataset.prefetch(args.prefetech_buffer)\n",
        "\n",
        "iterator = tf.data.Iterator.from_structure(train_dataset.output_types, train_dataset.output_shapes)\n",
        "train_init_op = iterator.make_initializer(train_dataset)\n",
        "val_init_op = iterator.make_initializer(val_dataset)\n",
        "\n",
        "# get an element from the chosen dataset iterator\n",
        "image_ids, image, y_true_13, y_true_26, y_true_52 = iterator.get_next()\n",
        "y_true = [y_true_13, y_true_26, y_true_52]\n",
        "\n",
        "# tf.data pipeline will lose the data `static` shape, so we need to set it manually\n",
        "image_ids.set_shape([None])\n",
        "image.set_shape([None, None, None, 3])\n",
        "for y in y_true:\n",
        "    y.set_shape([None, None, None, None, None])\n",
        "\n",
        "##################\n",
        "# Model definition\n",
        "##################\n",
        "yolo_model = yolov3(args.class_num, args.anchors, args.use_label_smooth, args.use_focal_loss, args.batch_norm_decay, args.weight_decay, use_static_shape=False)\n",
        "with tf.variable_scope('yolov3'):\n",
        "    pred_feature_maps = yolo_model.forward(image, is_training=is_training)\n",
        "loss = yolo_model.compute_loss(pred_feature_maps, y_true)\n",
        "y_pred = yolo_model.predict(pred_feature_maps)\n",
        "\n",
        "l2_loss = tf.losses.get_regularization_loss()\n",
        "\n",
        "# setting restore parts and vars to update\n",
        "saver_to_restore = tf.train.Saver(var_list=tf.contrib.framework.get_variables_to_restore(include=args.restore_include, exclude=args.restore_exclude))\n",
        "update_vars = tf.contrib.framework.get_variables_to_restore(include=args.update_part)\n",
        "\n",
        "tf.summary.scalar('train_batch_statistics/total_loss', loss[0])\n",
        "tf.summary.scalar('train_batch_statistics/loss_xy', loss[1])\n",
        "tf.summary.scalar('train_batch_statistics/loss_wh', loss[2])\n",
        "tf.summary.scalar('train_batch_statistics/loss_conf', loss[3])\n",
        "tf.summary.scalar('train_batch_statistics/loss_class', loss[4])\n",
        "tf.summary.scalar('train_batch_statistics/loss_l2', l2_loss)\n",
        "tf.summary.scalar('train_batch_statistics/loss_ratio', l2_loss / loss[0])\n",
        "\n",
        "global_step = tf.Variable(float(args.global_step), trainable=False, collections=[tf.GraphKeys.LOCAL_VARIABLES])\n",
        "if args.use_warm_up:\n",
        "    learning_rate = tf.cond(tf.less(global_step, args.train_batch_num * args.warm_up_epoch), \n",
        "                            lambda: args.learning_rate_init * global_step / (args.train_batch_num * args.warm_up_epoch),\n",
        "                            lambda: config_learning_rate(args, global_step - args.train_batch_num * args.warm_up_epoch))\n",
        "else:\n",
        "    learning_rate = config_learning_rate(args, global_step)\n",
        "tf.summary.scalar('learning_rate', learning_rate)\n",
        "\n",
        "if not args.save_optimizer:\n",
        "    saver_to_save = tf.train.Saver()\n",
        "    saver_best = tf.train.Saver()\n",
        "\n",
        "optimizer = config_optimizer(args.optimizer_name, learning_rate)\n",
        "\n",
        "# set dependencies for BN ops\n",
        "update_ops = tf.get_collection(tf.GraphKeys.UPDATE_OPS)\n",
        "with tf.control_dependencies(update_ops):\n",
        "    # train_op = optimizer.minimize(loss[0] + l2_loss, var_list=update_vars, global_step=global_step)\n",
        "    # apply gradient clip to avoid gradient exploding\n",
        "    gvs = optimizer.compute_gradients(loss[0] + l2_loss, var_list=update_vars)\n",
        "    clip_grad_var = [gv if gv[0] is None else [\n",
        "          tf.clip_by_norm(gv[0], 100.), gv[1]] for gv in gvs]\n",
        "    train_op = optimizer.apply_gradients(clip_grad_var, global_step=global_step)\n",
        "\n",
        "if args.save_optimizer:\n",
        "    print('Saving optimizer parameters to checkpoint! Remember to restore the global_step in the fine-tuning afterwards.')\n",
        "    saver_to_save = tf.train.Saver()\n",
        "    saver_best = tf.train.Saver()\n",
        "\n",
        "with tf.Session() as sess:\n",
        "    sess.run([tf.global_variables_initializer(), tf.local_variables_initializer()])\n",
        "    saver_to_restore.restore(sess, args.restore_path)\n",
        "    merged = tf.summary.merge_all()\n",
        "    writer = tf.summary.FileWriter(args.log_dir, sess.graph)\n",
        "\n",
        "    print('\\n----------- start to train -----------\\n')\n",
        "\n",
        "    best_mAP = -np.Inf\n",
        "\n",
        "    for epoch in range(args.total_epoches):\n",
        "\n",
        "        sess.run(train_init_op)\n",
        "        loss_total, loss_xy, loss_wh, loss_conf, loss_class = AverageMeter(), AverageMeter(), AverageMeter(), AverageMeter(), AverageMeter()\n",
        "\n",
        "        for i in trange(args.train_batch_num):\n",
        "            _, summary, __y_pred, __y_true, __loss, __global_step, __lr = sess.run(\n",
        "                [train_op, merged, y_pred, y_true, loss, global_step, learning_rate],\n",
        "                feed_dict={is_training: True})\n",
        "\n",
        "            writer.add_summary(summary, global_step=__global_step)\n",
        "\n",
        "            loss_total.update(__loss[0], len(__y_pred[0]))\n",
        "            loss_xy.update(__loss[1], len(__y_pred[0]))\n",
        "            loss_wh.update(__loss[2], len(__y_pred[0]))\n",
        "            loss_conf.update(__loss[3], len(__y_pred[0]))\n",
        "            loss_class.update(__loss[4], len(__y_pred[0]))\n",
        "\n",
        "            if __global_step % args.train_evaluation_step == 0 and __global_step > 0:\n",
        "                # recall, precision = evaluate_on_cpu(__y_pred, __y_true, args.class_num, args.nms_topk, args.score_threshold, args.nms_threshold)\n",
        "                recall, precision = evaluate_on_gpu(sess, gpu_nms_op, pred_boxes_flag, pred_scores_flag, __y_pred, __y_true, args.class_num, args.nms_threshold)\n",
        "\n",
        "                info = \"Epoch: {}, global_step: {} | loss: total: {:.2f}, xy: {:.2f}, wh: {:.2f}, conf: {:.2f}, class: {:.2f} | \".format(\n",
        "                        epoch, int(__global_step), loss_total.average, loss_xy.average, loss_wh.average, loss_conf.average, loss_class.average)\n",
        "                info += 'Last batch: rec: {:.3f}, prec: {:.3f} | lr: {:.5g}'.format(recall, precision, __lr)\n",
        "                print(info)\n",
        "                logging.info(info)\n",
        "\n",
        "                writer.add_summary(make_summary('evaluation/train_batch_recall', recall), global_step=__global_step)\n",
        "                writer.add_summary(make_summary('evaluation/train_batch_precision', precision), global_step=__global_step)\n",
        "\n",
        "                if np.isnan(loss_total.average):\n",
        "                    print('****' * 10)\n",
        "                    raise ArithmeticError(\n",
        "                        'Gradient exploded! Please train again and you may need modify some parameters.')\n",
        "\n",
        "        # NOTE: this is just demo. You can set the conditions when to save the weights.\n",
        "        if epoch % args.save_epoch == 0 and epoch > 0:\n",
        "            if loss_total.average <= 2.:\n",
        "                saver_to_save.save(sess, args.save_dir + 'model-epoch_{}_step_{}_loss_{:.4f}_lr_{:.5g}'.format(epoch, int(__global_step), loss_total.average, __lr))\n",
        "\n",
        "        # switch to validation dataset for evaluation\n",
        "        if epoch % args.val_evaluation_epoch == 0 and epoch >= args.warm_up_epoch:\n",
        "            sess.run(val_init_op)\n",
        "\n",
        "            val_loss_total, val_loss_xy, val_loss_wh, val_loss_conf, val_loss_class = \\\n",
        "                AverageMeter(), AverageMeter(), AverageMeter(), AverageMeter(), AverageMeter()\n",
        "\n",
        "            val_preds = []\n",
        "\n",
        "            for j in trange(args.val_img_cnt):\n",
        "                __image_ids, __y_pred, __loss = sess.run([image_ids, y_pred, loss],\n",
        "                                                         feed_dict={is_training: False})\n",
        "                pred_content = get_preds_gpu(sess, gpu_nms_op, pred_boxes_flag, pred_scores_flag, __image_ids, __y_pred)\n",
        "                val_preds.extend(pred_content)\n",
        "                val_loss_total.update(__loss[0])\n",
        "                val_loss_xy.update(__loss[1])\n",
        "                val_loss_wh.update(__loss[2])\n",
        "                val_loss_conf.update(__loss[3])\n",
        "                val_loss_class.update(__loss[4])\n",
        "\n",
        "            # calc mAP\n",
        "            rec_total, prec_total, ap_total = AverageMeter(), AverageMeter(), AverageMeter()\n",
        "            gt_dict = parse_gt_rec(args.val_file, args.img_size, args.letterbox_resize)\n",
        "\n",
        "            info = '======> Epoch: {}, global_step: {}, lr: {:.6g} <======\\n'.format(epoch, __global_step, __lr)\n",
        "\n",
        "            for ii in range(args.class_num):\n",
        "                npos, nd, rec, prec, ap = voc_eval(gt_dict, val_preds, ii, iou_thres=args.eval_threshold, use_07_metric=args.use_voc_07_metric)\n",
        "                info += 'EVAL: Class {}: Recall: {:.4f}, Precision: {:.4f}, AP: {:.4f}\\n'.format(ii, rec, prec, ap)\n",
        "                rec_total.update(rec, npos)\n",
        "                prec_total.update(prec, nd)\n",
        "                ap_total.update(ap, 1)\n",
        "\n",
        "            mAP = ap_total.average\n",
        "            info += 'EVAL: Recall: {:.4f}, Precison: {:.4f}, mAP: {:.4f}\\n'.format(rec_total.average, prec_total.average, mAP)\n",
        "            info += 'EVAL: loss: total: {:.2f}, xy: {:.2f}, wh: {:.2f}, conf: {:.2f}, class: {:.2f}\\n'.format(\n",
        "                val_loss_total.average, val_loss_xy.average, val_loss_wh.average, val_loss_conf.average, val_loss_class.average)\n",
        "            print(info)\n",
        "            logging.info(info)\n",
        "\n",
        "            if mAP > best_mAP:\n",
        "                best_mAP = mAP\n",
        "                saver_best.save(sess, args.save_dir + 'best_model_Epoch_{}_step_{}_mAP_{:.4f}_loss_{:.4f}_lr_{:.7g}'.format(\n",
        "                                   epoch, int(__global_step), best_mAP, val_loss_total.average, __lr))\n",
        "\n",
        "            writer.add_summary(make_summary('evaluation/val_mAP', mAP), global_step=epoch)\n",
        "            writer.add_summary(make_summary('evaluation/val_recall', rec_total.average), global_step=epoch)\n",
        "            writer.add_summary(make_summary('evaluation/val_precision', prec_total.average), global_step=epoch)\n",
        "            writer.add_summary(make_summary('validation_statistics/total_loss', val_loss_total.average), global_step=epoch)\n",
        "            writer.add_summary(make_summary('validation_statistics/loss_xy', val_loss_xy.average), global_step=epoch)\n",
        "            writer.add_summary(make_summary('validation_statistics/loss_wh', val_loss_wh.average), global_step=epoch)\n",
        "            writer.add_summary(make_summary('validation_statistics/loss_conf', val_loss_conf.average), global_step=epoch)\n",
        "            writer.add_summary(make_summary('validation_statistics/loss_class', val_loss_class.average), global_step=epoch)"
      ],
      "execution_count": 0,
      "outputs": [
        {
          "output_type": "stream",
          "text": [
            "Saving optimizer parameters to checkpoint! Remember to restore the global_step in the fine-tuning afterwards.\n",
            "INFO:tensorflow:Restoring parameters from ./data/darknet_weights/yolov3.ckpt\n",
            "\n",
            "----------- start to train -----------\n",
            "\n"
          ],
          "name": "stdout"
        },
        {
          "output_type": "stream",
          "text": [
            "100%|██████████| 37/37 [00:33<00:00,  2.07it/s]\n",
            "100%|██████████| 37/37 [00:21<00:00,  2.12it/s]\n",
            " 73%|███████▎  | 27/37 [00:16<00:07,  1.26it/s]"
          ],
          "name": "stderr"
        },
        {
          "output_type": "stream",
          "text": [
            "Epoch: 2, global_step: 100 | loss: total: 5.54, xy: 0.67, wh: 1.19, conf: 3.56, class: 0.12 | Last batch: rec: 0.118, prec: 0.182 | lr: 9.009e-05\n"
          ],
          "name": "stdout"
        },
        {
          "output_type": "stream",
          "text": [
            "100%|██████████| 37/37 [00:22<00:00,  2.08it/s]\n",
            "100%|██████████| 37/37 [00:21<00:00,  2.10it/s]\n",
            "100%|██████████| 37/37 [00:21<00:00,  2.09it/s]\n",
            "100%|██████████| 54/54 [00:07<00:00,  7.39it/s]\n"
          ],
          "name": "stderr"
        },
        {
          "output_type": "stream",
          "text": [
            "======> Epoch: 4, global_step: 184.0, lr: 0.0001 <======\n",
            "EVAL: Class 0: Recall: 0.2185, Precision: 0.0613, AP: 0.0144\n",
            "EVAL: Recall: 0.2185, Precison: 0.0613, mAP: 0.0144\n",
            "EVAL: loss: total: 13.21, xy: 0.56, wh: 2.88, conf: 9.63, class: 0.14\n",
            "\n"
          ],
          "name": "stdout"
        },
        {
          "output_type": "stream",
          "text": [
            " 43%|████▎     | 16/37 [00:10<00:12,  1.73it/s]"
          ],
          "name": "stderr"
        },
        {
          "output_type": "stream",
          "text": [
            "Epoch: 5, global_step: 200 | loss: total: 2.73, xy: 0.46, wh: 0.47, conf: 1.79, class: 0.01 | Last batch: rec: 0.692, prec: 0.346 | lr: 0.0001\n"
          ],
          "name": "stdout"
        },
        {
          "output_type": "stream",
          "text": [
            "100%|██████████| 37/37 [00:21<00:00,  2.11it/s]\n",
            "100%|██████████| 37/37 [00:21<00:00,  2.10it/s]\n",
            "100%|██████████| 54/54 [00:04<00:00, 10.91it/s]\n"
          ],
          "name": "stderr"
        },
        {
          "output_type": "stream",
          "text": [
            "======> Epoch: 6, global_step: 258.0, lr: 0.0001 <======\n",
            "EVAL: Class 0: Recall: 0.2269, Precision: 0.2308, AP: 0.0819\n",
            "EVAL: Recall: 0.2269, Precison: 0.2308, mAP: 0.0819\n",
            "EVAL: loss: total: 6.98, xy: 0.50, wh: 1.15, conf: 5.26, class: 0.07\n",
            "\n"
          ],
          "name": "stdout"
        },
        {
          "output_type": "stream",
          "text": [
            "100%|██████████| 37/37 [00:21<00:00,  2.08it/s]\n",
            " 14%|█▎        | 5/37 [00:03<00:24,  1.28it/s]"
          ],
          "name": "stderr"
        },
        {
          "output_type": "stream",
          "text": [
            "Epoch: 8, global_step: 300 | loss: total: 1.67, xy: 0.35, wh: 0.45, conf: 0.87, class: 0.00 | Last batch: rec: 0.667, prec: 0.435 | lr: 0.0001\n"
          ],
          "name": "stdout"
        },
        {
          "output_type": "stream",
          "text": [
            "100%|██████████| 37/37 [00:21<00:00,  2.11it/s]\n",
            "100%|██████████| 54/54 [00:04<00:00, 10.92it/s]\n"
          ],
          "name": "stderr"
        },
        {
          "output_type": "stream",
          "text": [
            "======> Epoch: 8, global_step: 332.0, lr: 0.0001 <======\n",
            "EVAL: Class 0: Recall: 0.2773, Precision: 0.3267, AP: 0.1408\n",
            "EVAL: Recall: 0.2773, Precison: 0.3267, mAP: 0.1408\n",
            "EVAL: loss: total: 6.61, xy: 0.44, wh: 0.94, conf: 5.23, class: 0.00\n",
            "\n"
          ],
          "name": "stdout"
        },
        {
          "output_type": "stream",
          "text": [
            "100%|██████████| 37/37 [00:21<00:00,  2.11it/s]\n",
            " 84%|████████▍ | 31/37 [00:18<00:03,  1.74it/s]"
          ],
          "name": "stderr"
        },
        {
          "output_type": "stream",
          "text": [
            "Epoch: 10, global_step: 400 | loss: total: 1.32, xy: 0.26, wh: 0.41, conf: 0.64, class: 0.00 | Last batch: rec: 0.857, prec: 0.750 | lr: 0.0001\n"
          ],
          "name": "stdout"
        },
        {
          "output_type": "stream",
          "text": [
            "100%|██████████| 37/37 [00:21<00:00,  2.10it/s]\n",
            "100%|██████████| 54/54 [00:05<00:00, 10.63it/s]\n"
          ],
          "name": "stderr"
        },
        {
          "output_type": "stream",
          "text": [
            "======> Epoch: 10, global_step: 406.0, lr: 0.0001 <======\n",
            "EVAL: Class 0: Recall: 0.2605, Precision: 0.3196, AP: 0.1727\n",
            "EVAL: Recall: 0.2605, Precison: 0.3196, mAP: 0.1727\n",
            "EVAL: loss: total: 7.42, xy: 0.41, wh: 1.16, conf: 5.86, class: 0.00\n",
            "\n"
          ],
          "name": "stdout"
        },
        {
          "output_type": "stream",
          "text": [
            "100%|██████████| 37/37 [00:21<00:00,  2.09it/s]\n",
            "100%|██████████| 37/37 [00:21<00:00,  2.09it/s]\n",
            "100%|██████████| 54/54 [00:04<00:00, 10.91it/s]\n"
          ],
          "name": "stderr"
        },
        {
          "output_type": "stream",
          "text": [
            "======> Epoch: 12, global_step: 480.0, lr: 0.0001 <======\n",
            "EVAL: Class 0: Recall: 0.2857, Precision: 0.4857, AP: 0.2188\n",
            "EVAL: Recall: 0.2857, Precison: 0.4857, mAP: 0.2188\n",
            "EVAL: loss: total: 8.18, xy: 0.44, wh: 0.81, conf: 6.93, class: 0.00\n",
            "\n"
          ],
          "name": "stdout"
        },
        {
          "output_type": "stream",
          "text": [
            " 54%|█████▍    | 20/37 [00:12<00:09,  1.75it/s]"
          ],
          "name": "stderr"
        },
        {
          "output_type": "stream",
          "text": [
            "Epoch: 13, global_step: 500 | loss: total: 1.02, xy: 0.22, wh: 0.37, conf: 0.43, class: 0.00 | Last batch: rec: 0.812, prec: 0.684 | lr: 0.0001\n"
          ],
          "name": "stdout"
        },
        {
          "output_type": "stream",
          "text": [
            "100%|██████████| 37/37 [00:21<00:00,  2.10it/s]\n",
            "100%|██████████| 37/37 [00:21<00:00,  2.08it/s]\n",
            "100%|██████████| 54/54 [00:04<00:00, 10.94it/s]\n",
            "  0%|          | 0/37 [00:00<?, ?it/s]"
          ],
          "name": "stderr"
        },
        {
          "output_type": "stream",
          "text": [
            "======> Epoch: 14, global_step: 554.0, lr: 0.0001 <======\n",
            "EVAL: Class 0: Recall: 0.1681, Precision: 0.3571, AP: 0.1096\n",
            "EVAL: Recall: 0.1681, Precison: 0.3571, mAP: 0.1096\n",
            "EVAL: loss: total: 7.97, xy: 0.39, wh: 0.54, conf: 7.03, class: 0.00\n",
            "\n"
          ],
          "name": "stdout"
        },
        {
          "output_type": "stream",
          "text": [
            "100%|██████████| 37/37 [00:21<00:00,  2.10it/s]\n",
            " 24%|██▍       | 9/37 [00:06<00:17,  1.60it/s]"
          ],
          "name": "stderr"
        },
        {
          "output_type": "stream",
          "text": [
            "Epoch: 16, global_step: 600 | loss: total: 0.83, xy: 0.20, wh: 0.39, conf: 0.25, class: 0.00 | Last batch: rec: 0.889, prec: 0.889 | lr: 0.0001\n"
          ],
          "name": "stdout"
        },
        {
          "output_type": "stream",
          "text": [
            "100%|██████████| 37/37 [00:21<00:00,  2.12it/s]\n",
            "100%|██████████| 54/54 [00:04<00:00, 10.96it/s]\n",
            "  0%|          | 0/37 [00:00<?, ?it/s]"
          ],
          "name": "stderr"
        },
        {
          "output_type": "stream",
          "text": [
            "======> Epoch: 16, global_step: 628.0, lr: 0.0001 <======\n",
            "EVAL: Class 0: Recall: 0.2773, Precision: 0.4714, AP: 0.2132\n",
            "EVAL: Recall: 0.2773, Precison: 0.4714, mAP: 0.2132\n",
            "EVAL: loss: total: 7.13, xy: 0.37, wh: 0.55, conf: 6.21, class: 0.00\n",
            "\n"
          ],
          "name": "stdout"
        },
        {
          "output_type": "stream",
          "text": [
            "100%|██████████| 37/37 [00:21<00:00,  2.11it/s]\n",
            " 95%|█████████▍| 35/37 [00:20<00:01,  1.74it/s]"
          ],
          "name": "stderr"
        },
        {
          "output_type": "stream",
          "text": [
            "Epoch: 18, global_step: 700 | loss: total: 0.67, xy: 0.16, wh: 0.29, conf: 0.22, class: 0.00 | Last batch: rec: 1.000, prec: 0.750 | lr: 0.0001\n"
          ],
          "name": "stdout"
        },
        {
          "output_type": "stream",
          "text": [
            "100%|██████████| 37/37 [00:21<00:00,  2.08it/s]\n",
            "100%|██████████| 54/54 [00:04<00:00, 11.20it/s]\n",
            "  0%|          | 0/37 [00:00<?, ?it/s]"
          ],
          "name": "stderr"
        },
        {
          "output_type": "stream",
          "text": [
            "======> Epoch: 18, global_step: 702.0, lr: 0.0001 <======\n",
            "EVAL: Class 0: Recall: 0.2437, Precision: 0.4915, AP: 0.1888\n",
            "EVAL: Recall: 0.2437, Precison: 0.4915, mAP: 0.1888\n",
            "EVAL: loss: total: 8.35, xy: 0.39, wh: 0.53, conf: 7.44, class: 0.00\n",
            "\n"
          ],
          "name": "stdout"
        },
        {
          "output_type": "stream",
          "text": [
            "100%|██████████| 37/37 [00:21<00:00,  2.10it/s]\n",
            "100%|██████████| 37/37 [00:21<00:00,  2.10it/s]\n",
            "100%|██████████| 54/54 [00:04<00:00, 10.89it/s]\n"
          ],
          "name": "stderr"
        },
        {
          "output_type": "stream",
          "text": [
            "======> Epoch: 20, global_step: 776.0, lr: 0.0001 <======\n",
            "EVAL: Class 0: Recall: 0.2941, Precision: 0.4487, AP: 0.2207\n",
            "EVAL: Recall: 0.2941, Precison: 0.4487, mAP: 0.2207\n",
            "EVAL: loss: total: 8.22, xy: 0.40, wh: 0.61, conf: 7.21, class: 0.00\n",
            "\n"
          ],
          "name": "stdout"
        },
        {
          "output_type": "stream",
          "text": [
            " 65%|██████▍   | 24/37 [00:14<00:07,  1.74it/s]"
          ],
          "name": "stderr"
        },
        {
          "output_type": "stream",
          "text": [
            "Epoch: 21, global_step: 800 | loss: total: 0.51, xy: 0.12, wh: 0.24, conf: 0.14, class: 0.00 | Last batch: rec: 1.000, prec: 0.917 | lr: 0.0001\n"
          ],
          "name": "stdout"
        },
        {
          "output_type": "stream",
          "text": [
            "100%|██████████| 37/37 [00:21<00:00,  2.08it/s]\n",
            "100%|██████████| 37/37 [00:21<00:00,  2.09it/s]\n",
            "100%|██████████| 54/54 [00:04<00:00, 10.88it/s]\n",
            "  0%|          | 0/37 [00:00<?, ?it/s]"
          ],
          "name": "stderr"
        },
        {
          "output_type": "stream",
          "text": [
            "======> Epoch: 22, global_step: 850.0, lr: 0.0001 <======\n",
            "EVAL: Class 0: Recall: 0.2101, Precision: 0.3968, AP: 0.1386\n",
            "EVAL: Recall: 0.2101, Precison: 0.3968, mAP: 0.1386\n",
            "EVAL: loss: total: 8.33, xy: 0.37, wh: 0.61, conf: 7.35, class: 0.00\n",
            "\n"
          ],
          "name": "stdout"
        },
        {
          "output_type": "stream",
          "text": [
            "100%|██████████| 37/37 [00:21<00:00,  2.09it/s]\n",
            " 35%|███▌      | 13/37 [00:08<00:14,  1.70it/s]"
          ],
          "name": "stderr"
        },
        {
          "output_type": "stream",
          "text": [
            "Epoch: 24, global_step: 900 | loss: total: 0.36, xy: 0.10, wh: 0.18, conf: 0.08, class: 0.00 | Last batch: rec: 0.846, prec: 0.846 | lr: 0.0001\n"
          ],
          "name": "stdout"
        },
        {
          "output_type": "stream",
          "text": [
            "100%|██████████| 37/37 [00:21<00:00,  2.10it/s]\n",
            "100%|██████████| 54/54 [00:04<00:00, 10.89it/s]\n",
            "  0%|          | 0/37 [00:00<?, ?it/s]"
          ],
          "name": "stderr"
        },
        {
          "output_type": "stream",
          "text": [
            "======> Epoch: 24, global_step: 924.0, lr: 0.0001 <======\n",
            "EVAL: Class 0: Recall: 0.3109, Precision: 0.2403, AP: 0.1648\n",
            "EVAL: Recall: 0.3109, Precison: 0.2403, mAP: 0.1648\n",
            "EVAL: loss: total: 9.26, xy: 0.38, wh: 0.73, conf: 8.16, class: 0.00\n",
            "\n"
          ],
          "name": "stdout"
        },
        {
          "output_type": "stream",
          "text": [
            "100%|██████████| 37/37 [00:21<00:00,  2.09it/s]\n",
            "100%|██████████| 37/37 [00:21<00:00,  2.11it/s]\n",
            "100%|██████████| 54/54 [00:04<00:00, 10.96it/s]\n",
            "  0%|          | 0/37 [00:00<?, ?it/s]"
          ],
          "name": "stderr"
        },
        {
          "output_type": "stream",
          "text": [
            "======> Epoch: 26, global_step: 998.0, lr: 0.0001 <======\n",
            "EVAL: Class 0: Recall: 0.1849, Precision: 0.5000, AP: 0.1338\n",
            "EVAL: Recall: 0.1849, Precison: 0.5000, mAP: 0.1338\n",
            "EVAL: loss: total: 9.09, xy: 0.37, wh: 0.51, conf: 8.21, class: 0.00\n",
            "\n"
          ],
          "name": "stdout"
        },
        {
          "output_type": "stream",
          "text": [
            "  5%|▌         | 2/37 [00:02<00:44,  1.27s/it]"
          ],
          "name": "stderr"
        },
        {
          "output_type": "stream",
          "text": [
            "Epoch: 27, global_step: 1000 | loss: total: 0.46, xy: 0.13, wh: 0.14, conf: 0.20, class: 0.00 | Last batch: rec: 0.778, prec: 0.583 | lr: 0.0001\n"
          ],
          "name": "stdout"
        },
        {
          "output_type": "stream",
          "text": [
            "100%|██████████| 37/37 [00:21<00:00,  2.07it/s]\n",
            "100%|██████████| 37/37 [00:21<00:00,  2.09it/s]\n",
            "100%|██████████| 54/54 [00:04<00:00, 10.89it/s]\n",
            "  0%|          | 0/37 [00:00<?, ?it/s]"
          ],
          "name": "stderr"
        },
        {
          "output_type": "stream",
          "text": [
            "======> Epoch: 28, global_step: 1072.0, lr: 0.0001 <======\n",
            "EVAL: Class 0: Recall: 0.2437, Precision: 0.5472, AP: 0.1779\n",
            "EVAL: Recall: 0.2437, Precison: 0.5472, mAP: 0.1779\n",
            "EVAL: loss: total: 9.32, xy: 0.39, wh: 0.55, conf: 8.39, class: 0.00\n",
            "\n"
          ],
          "name": "stdout"
        },
        {
          "output_type": "stream",
          "text": [
            " 76%|███████▌  | 28/37 [00:16<00:05,  1.75it/s]"
          ],
          "name": "stderr"
        },
        {
          "output_type": "stream",
          "text": [
            "Epoch: 29, global_step: 1100 | loss: total: 0.31, xy: 0.10, wh: 0.15, conf: 0.06, class: 0.00 | Last batch: rec: 1.000, prec: 1.000 | lr: 0.0001\n"
          ],
          "name": "stdout"
        },
        {
          "output_type": "stream",
          "text": [
            "100%|██████████| 37/37 [00:21<00:00,  2.11it/s]\n",
            "100%|██████████| 37/37 [00:21<00:00,  2.07it/s]\n",
            "100%|██████████| 54/54 [00:04<00:00, 10.97it/s]\n",
            "  0%|          | 0/37 [00:00<?, ?it/s]"
          ],
          "name": "stderr"
        },
        {
          "output_type": "stream",
          "text": [
            "======> Epoch: 30, global_step: 1146.0, lr: 0.0001 <======\n",
            "EVAL: Class 0: Recall: 0.3025, Precision: 0.4444, AP: 0.1744\n",
            "EVAL: Recall: 0.3025, Precison: 0.4444, mAP: 0.1744\n",
            "EVAL: loss: total: 8.06, xy: 0.38, wh: 0.41, conf: 7.27, class: 0.00\n",
            "\n"
          ],
          "name": "stdout"
        },
        {
          "output_type": "stream",
          "text": [
            "100%|██████████| 37/37 [00:21<00:00,  2.09it/s]\n",
            " 46%|████▌     | 17/37 [00:10<00:11,  1.73it/s]"
          ],
          "name": "stderr"
        },
        {
          "output_type": "stream",
          "text": [
            "Epoch: 32, global_step: 1200 | loss: total: 0.38, xy: 0.09, wh: 0.14, conf: 0.15, class: 0.00 | Last batch: rec: 0.923, prec: 0.857 | lr: 0.0001\n"
          ],
          "name": "stdout"
        },
        {
          "output_type": "stream",
          "text": [
            "100%|██████████| 37/37 [00:21<00:00,  2.09it/s]\n",
            "100%|██████████| 54/54 [00:04<00:00, 10.92it/s]\n",
            "  0%|          | 0/37 [00:00<?, ?it/s]"
          ],
          "name": "stderr"
        },
        {
          "output_type": "stream",
          "text": [
            "======> Epoch: 32, global_step: 1220.0, lr: 0.0001 <======\n",
            "EVAL: Class 0: Recall: 0.3277, Precision: 0.4062, AP: 0.2127\n",
            "EVAL: Recall: 0.3277, Precison: 0.4062, mAP: 0.2127\n",
            "EVAL: loss: total: 8.23, xy: 0.40, wh: 0.42, conf: 7.41, class: 0.00\n",
            "\n"
          ],
          "name": "stdout"
        },
        {
          "output_type": "stream",
          "text": [
            "100%|██████████| 37/37 [00:21<00:00,  2.09it/s]\n",
            "100%|██████████| 37/37 [00:21<00:00,  2.10it/s]\n",
            "100%|██████████| 54/54 [00:04<00:00, 10.92it/s]\n",
            "  0%|          | 0/37 [00:00<?, ?it/s]"
          ],
          "name": "stderr"
        },
        {
          "output_type": "stream",
          "text": [
            "======> Epoch: 34, global_step: 1294.0, lr: 3e-05 <======\n",
            "EVAL: Class 0: Recall: 0.2605, Precision: 0.5254, AP: 0.1914\n",
            "EVAL: Recall: 0.2605, Precison: 0.5254, mAP: 0.1914\n",
            "EVAL: loss: total: 8.73, xy: 0.40, wh: 0.35, conf: 7.98, class: 0.00\n",
            "\n"
          ],
          "name": "stdout"
        },
        {
          "output_type": "stream",
          "text": [
            " 16%|█▌        | 6/37 [00:04<00:22,  1.37it/s]"
          ],
          "name": "stderr"
        },
        {
          "output_type": "stream",
          "text": [
            "Epoch: 35, global_step: 1300 | loss: total: 0.05, xy: 0.02, wh: 0.03, conf: 0.00, class: 0.00 | Last batch: rec: 1.000, prec: 1.000 | lr: 3e-05\n"
          ],
          "name": "stdout"
        },
        {
          "output_type": "stream",
          "text": [
            "100%|██████████| 37/37 [00:21<00:00,  2.09it/s]\n",
            "100%|██████████| 37/37 [00:21<00:00,  2.09it/s]\n",
            "100%|██████████| 54/54 [00:04<00:00, 10.90it/s]\n",
            "  0%|          | 0/37 [00:00<?, ?it/s]"
          ],
          "name": "stderr"
        },
        {
          "output_type": "stream",
          "text": [
            "======> Epoch: 36, global_step: 1368.0, lr: 3e-05 <======\n",
            "EVAL: Class 0: Recall: 0.1933, Precision: 0.2396, AP: 0.1233\n",
            "EVAL: Recall: 0.1933, Precison: 0.2396, mAP: 0.1233\n",
            "EVAL: loss: total: 9.52, xy: 0.42, wh: 0.36, conf: 8.75, class: 0.00\n",
            "\n"
          ],
          "name": "stdout"
        },
        {
          "output_type": "stream",
          "text": [
            " 86%|████████▋ | 32/37 [00:19<00:02,  1.73it/s]"
          ],
          "name": "stderr"
        },
        {
          "output_type": "stream",
          "text": [
            "Epoch: 37, global_step: 1400 | loss: total: 0.07, xy: 0.03, wh: 0.03, conf: 0.00, class: 0.00 | Last batch: rec: 1.000, prec: 1.000 | lr: 3e-05\n"
          ],
          "name": "stdout"
        },
        {
          "output_type": "stream",
          "text": [
            "100%|██████████| 37/37 [00:21<00:00,  2.08it/s]\n",
            "100%|██████████| 37/37 [00:21<00:00,  2.07it/s]\n",
            "100%|██████████| 54/54 [00:04<00:00, 10.83it/s]\n",
            "  0%|          | 0/37 [00:00<?, ?it/s]"
          ],
          "name": "stderr"
        },
        {
          "output_type": "stream",
          "text": [
            "======> Epoch: 38, global_step: 1442.0, lr: 3e-05 <======\n",
            "EVAL: Class 0: Recall: 0.1933, Precision: 0.1377, AP: 0.0963\n",
            "EVAL: Recall: 0.1933, Precison: 0.1377, mAP: 0.0963\n",
            "EVAL: loss: total: 9.29, xy: 0.42, wh: 0.30, conf: 8.57, class: 0.00\n",
            "\n"
          ],
          "name": "stdout"
        },
        {
          "output_type": "stream",
          "text": [
            "100%|██████████| 37/37 [00:21<00:00,  2.08it/s]\n",
            " 57%|█████▋    | 21/37 [00:12<00:09,  1.74it/s]"
          ],
          "name": "stderr"
        },
        {
          "output_type": "stream",
          "text": [
            "Epoch: 40, global_step: 1500 | loss: total: 0.06, xy: 0.02, wh: 0.03, conf: 0.00, class: 0.00 | Last batch: rec: 1.000, prec: 1.000 | lr: 3e-05\n"
          ],
          "name": "stdout"
        },
        {
          "output_type": "stream",
          "text": [
            "100%|██████████| 37/37 [00:21<00:00,  2.11it/s]\n",
            "100%|██████████| 54/54 [00:04<00:00, 10.84it/s]\n",
            "  0%|          | 0/37 [00:00<?, ?it/s]"
          ],
          "name": "stderr"
        },
        {
          "output_type": "stream",
          "text": [
            "======> Epoch: 40, global_step: 1516.0, lr: 3e-05 <======\n",
            "EVAL: Class 0: Recall: 0.2101, Precision: 0.1852, AP: 0.0971\n",
            "EVAL: Recall: 0.2101, Precison: 0.1852, mAP: 0.0971\n",
            "EVAL: loss: total: 9.09, xy: 0.42, wh: 0.32, conf: 8.35, class: 0.00\n",
            "\n"
          ],
          "name": "stdout"
        },
        {
          "output_type": "stream",
          "text": [
            "100%|██████████| 37/37 [00:21<00:00,  2.10it/s]\n",
            "100%|██████████| 37/37 [00:21<00:00,  2.08it/s]\n",
            "100%|██████████| 54/54 [00:04<00:00, 10.87it/s]\n",
            "  0%|          | 0/37 [00:00<?, ?it/s]"
          ],
          "name": "stderr"
        },
        {
          "output_type": "stream",
          "text": [
            "======> Epoch: 42, global_step: 1590.0, lr: 3e-05 <======\n",
            "EVAL: Class 0: Recall: 0.1765, Precision: 0.1066, AP: 0.1030\n",
            "EVAL: Recall: 0.1765, Precison: 0.1066, mAP: 0.1030\n",
            "EVAL: loss: total: 8.90, xy: 0.42, wh: 0.33, conf: 8.15, class: 0.00\n",
            "\n"
          ],
          "name": "stdout"
        },
        {
          "output_type": "stream",
          "text": [
            " 27%|██▋       | 10/37 [00:06<00:16,  1.63it/s]"
          ],
          "name": "stderr"
        },
        {
          "output_type": "stream",
          "text": [
            "Epoch: 43, global_step: 1600 | loss: total: 0.07, xy: 0.03, wh: 0.04, conf: 0.00, class: 0.00 | Last batch: rec: 1.000, prec: 1.000 | lr: 3e-05\n"
          ],
          "name": "stdout"
        },
        {
          "output_type": "stream",
          "text": [
            "100%|██████████| 37/37 [00:21<00:00,  2.10it/s]\n",
            "100%|██████████| 37/37 [00:21<00:00,  2.09it/s]\n",
            "100%|██████████| 54/54 [00:04<00:00, 10.97it/s]\n",
            "  0%|          | 0/37 [00:00<?, ?it/s]"
          ],
          "name": "stderr"
        },
        {
          "output_type": "stream",
          "text": [
            "======> Epoch: 44, global_step: 1664.0, lr: 3e-05 <======\n",
            "EVAL: Class 0: Recall: 0.1597, Precision: 0.5588, AP: 0.1189\n",
            "EVAL: Recall: 0.1597, Precison: 0.5588, mAP: 0.1189\n",
            "EVAL: loss: total: 8.49, xy: 0.40, wh: 0.32, conf: 7.77, class: 0.00\n",
            "\n"
          ],
          "name": "stdout"
        },
        {
          "output_type": "stream",
          "text": [
            " 97%|█████████▋| 36/37 [00:21<00:00,  1.72it/s]"
          ],
          "name": "stderr"
        },
        {
          "output_type": "stream",
          "text": [
            "Epoch: 45, global_step: 1700 | loss: total: 0.07, xy: 0.02, wh: 0.04, conf: 0.00, class: 0.00 | Last batch: rec: 1.000, prec: 1.000 | lr: 3e-05\n"
          ],
          "name": "stdout"
        },
        {
          "output_type": "stream",
          "text": [
            "100%|██████████| 37/37 [00:21<00:00,  2.07it/s]\n",
            "100%|██████████| 37/37 [00:21<00:00,  2.10it/s]\n",
            "100%|██████████| 54/54 [00:04<00:00, 10.84it/s]\n",
            "  0%|          | 0/37 [00:00<?, ?it/s]"
          ],
          "name": "stderr"
        },
        {
          "output_type": "stream",
          "text": [
            "======> Epoch: 46, global_step: 1738.0, lr: 3e-05 <======\n",
            "EVAL: Class 0: Recall: 0.2017, Precision: 0.5455, AP: 0.1506\n",
            "EVAL: Recall: 0.2017, Precison: 0.5455, mAP: 0.1506\n",
            "EVAL: loss: total: 8.52, xy: 0.40, wh: 0.32, conf: 7.79, class: 0.00\n",
            "\n"
          ],
          "name": "stdout"
        },
        {
          "output_type": "stream",
          "text": [
            "100%|██████████| 37/37 [00:21<00:00,  2.08it/s]\n",
            " 68%|██████▊   | 25/37 [00:15<00:06,  1.74it/s]"
          ],
          "name": "stderr"
        },
        {
          "output_type": "stream",
          "text": [
            "Epoch: 48, global_step: 1800 | loss: total: 0.06, xy: 0.02, wh: 0.04, conf: 0.00, class: 0.00 | Last batch: rec: 1.000, prec: 1.000 | lr: 3e-05\n"
          ],
          "name": "stdout"
        },
        {
          "output_type": "stream",
          "text": [
            "100%|██████████| 37/37 [00:21<00:00,  2.09it/s]\n",
            "100%|██████████| 54/54 [00:04<00:00, 10.93it/s]\n",
            "  0%|          | 0/37 [00:00<?, ?it/s]"
          ],
          "name": "stderr"
        },
        {
          "output_type": "stream",
          "text": [
            "======> Epoch: 48, global_step: 1812.0, lr: 3e-05 <======\n",
            "EVAL: Class 0: Recall: 0.1849, Precision: 0.5641, AP: 0.1432\n",
            "EVAL: Recall: 0.1849, Precison: 0.5641, mAP: 0.1432\n",
            "EVAL: loss: total: 8.68, xy: 0.42, wh: 0.30, conf: 7.96, class: 0.00\n",
            "\n"
          ],
          "name": "stdout"
        },
        {
          "output_type": "stream",
          "text": [
            "100%|██████████| 37/37 [00:21<00:00,  2.08it/s]\n",
            "100%|██████████| 37/37 [00:21<00:00,  2.08it/s]\n",
            "100%|██████████| 54/54 [00:04<00:00, 10.94it/s]\n",
            "  0%|          | 0/37 [00:00<?, ?it/s]"
          ],
          "name": "stderr"
        },
        {
          "output_type": "stream",
          "text": [
            "======> Epoch: 50, global_step: 1886.0, lr: 3e-05 <======\n",
            "EVAL: Class 0: Recall: 0.1681, Precision: 0.4167, AP: 0.1177\n",
            "EVAL: Recall: 0.1681, Precison: 0.4167, mAP: 0.1177\n",
            "EVAL: loss: total: 8.54, xy: 0.40, wh: 0.31, conf: 7.82, class: 0.00\n",
            "\n"
          ],
          "name": "stdout"
        },
        {
          "output_type": "stream",
          "text": [
            " 38%|███▊      | 14/37 [00:08<00:13,  1.72it/s]"
          ],
          "name": "stderr"
        },
        {
          "output_type": "stream",
          "text": [
            "Epoch: 51, global_step: 1900 | loss: total: 0.05, xy: 0.02, wh: 0.03, conf: 0.00, class: 0.00 | Last batch: rec: 1.000, prec: 1.000 | lr: 3e-05\n"
          ],
          "name": "stdout"
        },
        {
          "output_type": "stream",
          "text": [
            "100%|██████████| 37/37 [00:21<00:00,  2.07it/s]\n",
            "100%|██████████| 37/37 [00:21<00:00,  2.08it/s]\n",
            "100%|██████████| 54/54 [00:04<00:00, 10.97it/s]\n",
            "  0%|          | 0/37 [00:00<?, ?it/s]"
          ],
          "name": "stderr"
        },
        {
          "output_type": "stream",
          "text": [
            "======> Epoch: 52, global_step: 1960.0, lr: 3e-05 <======\n",
            "EVAL: Class 0: Recall: 0.1933, Precision: 0.6053, AP: 0.1528\n",
            "EVAL: Recall: 0.1933, Precison: 0.6053, mAP: 0.1528\n",
            "EVAL: loss: total: 8.52, xy: 0.41, wh: 0.28, conf: 7.83, class: 0.00\n",
            "\n"
          ],
          "name": "stdout"
        },
        {
          "output_type": "stream",
          "text": [
            "100%|██████████| 37/37 [00:21<00:00,  2.10it/s]\n",
            "  8%|▊         | 3/37 [00:02<00:33,  1.00it/s]"
          ],
          "name": "stderr"
        },
        {
          "output_type": "stream",
          "text": [
            "Epoch: 54, global_step: 2000 | loss: total: 0.02, xy: 0.01, wh: 0.01, conf: 0.00, class: 0.00 | Last batch: rec: 1.000, prec: 1.000 | lr: 1e-05\n"
          ],
          "name": "stdout"
        },
        {
          "output_type": "stream",
          "text": [
            "100%|██████████| 37/37 [00:21<00:00,  2.07it/s]\n",
            "100%|██████████| 54/54 [00:04<00:00, 11.20it/s]\n",
            "  0%|          | 0/37 [00:00<?, ?it/s]"
          ],
          "name": "stderr"
        },
        {
          "output_type": "stream",
          "text": [
            "======> Epoch: 54, global_step: 2034.0, lr: 1e-05 <======\n",
            "EVAL: Class 0: Recall: 0.1933, Precision: 0.3333, AP: 0.1393\n",
            "EVAL: Recall: 0.1933, Precison: 0.3333, mAP: 0.1393\n",
            "EVAL: loss: total: 8.75, xy: 0.40, wh: 0.30, conf: 8.04, class: 0.00\n",
            "\n"
          ],
          "name": "stdout"
        },
        {
          "output_type": "stream",
          "text": [
            "100%|██████████| 37/37 [00:21<00:00,  2.09it/s]\n",
            " 78%|███████▊  | 29/37 [00:17<00:04,  1.74it/s]"
          ],
          "name": "stderr"
        },
        {
          "output_type": "stream",
          "text": [
            "Epoch: 56, global_step: 2100 | loss: total: 0.01, xy: 0.00, wh: 0.01, conf: 0.00, class: 0.00 | Last batch: rec: 1.000, prec: 1.000 | lr: 1e-05\n"
          ],
          "name": "stdout"
        },
        {
          "output_type": "stream",
          "text": [
            "100%|██████████| 37/37 [00:21<00:00,  2.11it/s]\n",
            "100%|██████████| 54/54 [00:04<00:00, 10.90it/s]\n",
            "  0%|          | 0/37 [00:00<?, ?it/s]"
          ],
          "name": "stderr"
        },
        {
          "output_type": "stream",
          "text": [
            "======> Epoch: 56, global_step: 2108.0, lr: 1e-05 <======\n",
            "EVAL: Class 0: Recall: 0.2269, Precision: 0.1475, AP: 0.0961\n",
            "EVAL: Recall: 0.2269, Precison: 0.1475, mAP: 0.0961\n",
            "EVAL: loss: total: 9.26, xy: 0.40, wh: 0.31, conf: 8.55, class: 0.01\n",
            "\n"
          ],
          "name": "stdout"
        },
        {
          "output_type": "stream",
          "text": [
            "100%|██████████| 37/37 [00:21<00:00,  2.11it/s]\n",
            "100%|██████████| 37/37 [00:21<00:00,  2.10it/s]\n",
            "100%|██████████| 54/54 [00:04<00:00, 10.95it/s]\n",
            "  0%|          | 0/37 [00:00<?, ?it/s]"
          ],
          "name": "stderr"
        },
        {
          "output_type": "stream",
          "text": [
            "======> Epoch: 58, global_step: 2182.0, lr: 1e-05 <======\n",
            "EVAL: Class 0: Recall: 0.1849, Precision: 0.0880, AP: 0.0749\n",
            "EVAL: Recall: 0.1849, Precison: 0.0880, mAP: 0.0749\n",
            "EVAL: loss: total: 9.54, xy: 0.40, wh: 0.31, conf: 8.83, class: 0.01\n",
            "\n"
          ],
          "name": "stdout"
        },
        {
          "output_type": "stream",
          "text": [
            " 49%|████▊     | 18/37 [00:11<00:10,  1.74it/s]"
          ],
          "name": "stderr"
        },
        {
          "output_type": "stream",
          "text": [
            "Epoch: 59, global_step: 2200 | loss: total: 0.01, xy: 0.00, wh: 0.01, conf: 0.00, class: 0.00 | Last batch: rec: 1.000, prec: 1.000 | lr: 1e-05\n"
          ],
          "name": "stdout"
        },
        {
          "output_type": "stream",
          "text": [
            "100%|██████████| 37/37 [00:21<00:00,  2.08it/s]\n",
            "100%|██████████| 37/37 [00:21<00:00,  2.10it/s]\n",
            "100%|██████████| 54/54 [00:04<00:00, 10.95it/s]\n",
            "  0%|          | 0/37 [00:00<?, ?it/s]"
          ],
          "name": "stderr"
        },
        {
          "output_type": "stream",
          "text": [
            "======> Epoch: 60, global_step: 2256.0, lr: 1e-05 <======\n",
            "EVAL: Class 0: Recall: 0.2101, Precision: 0.1106, AP: 0.0837\n",
            "EVAL: Recall: 0.2101, Precison: 0.1106, mAP: 0.0837\n",
            "EVAL: loss: total: 9.45, xy: 0.40, wh: 0.30, conf: 8.75, class: 0.01\n",
            "\n"
          ],
          "name": "stdout"
        },
        {
          "output_type": "stream",
          "text": [
            "100%|██████████| 37/37 [00:21<00:00,  2.09it/s]\n",
            " 19%|█▉        | 7/37 [00:04<00:20,  1.47it/s]"
          ],
          "name": "stderr"
        },
        {
          "output_type": "stream",
          "text": [
            "Epoch: 62, global_step: 2300 | loss: total: 0.01, xy: 0.00, wh: 0.00, conf: 0.00, class: 0.00 | Last batch: rec: 1.000, prec: 1.000 | lr: 1e-05\n"
          ],
          "name": "stdout"
        },
        {
          "output_type": "stream",
          "text": [
            "100%|██████████| 37/37 [00:21<00:00,  2.08it/s]\n",
            "100%|██████████| 54/54 [00:04<00:00, 10.84it/s]\n",
            "  0%|          | 0/37 [00:00<?, ?it/s]"
          ],
          "name": "stderr"
        },
        {
          "output_type": "stream",
          "text": [
            "======> Epoch: 62, global_step: 2330.0, lr: 1e-05 <======\n",
            "EVAL: Class 0: Recall: 0.2101, Precision: 0.1131, AP: 0.0847\n",
            "EVAL: Recall: 0.2101, Precison: 0.1131, mAP: 0.0847\n",
            "EVAL: loss: total: 9.37, xy: 0.40, wh: 0.31, conf: 8.65, class: 0.01\n",
            "\n"
          ],
          "name": "stdout"
        },
        {
          "output_type": "stream",
          "text": [
            "100%|██████████| 37/37 [00:21<00:00,  2.09it/s]\n",
            " 89%|████████▉ | 33/37 [00:19<00:02,  1.73it/s]"
          ],
          "name": "stderr"
        },
        {
          "output_type": "stream",
          "text": [
            "Epoch: 64, global_step: 2400 | loss: total: 0.01, xy: 0.00, wh: 0.01, conf: 0.00, class: 0.00 | Last batch: rec: 1.000, prec: 1.000 | lr: 1e-05\n"
          ],
          "name": "stdout"
        },
        {
          "output_type": "stream",
          "text": [
            "100%|██████████| 37/37 [00:21<00:00,  2.09it/s]\n",
            "100%|██████████| 54/54 [00:04<00:00, 10.85it/s]\n",
            "  0%|          | 0/37 [00:00<?, ?it/s]"
          ],
          "name": "stderr"
        },
        {
          "output_type": "stream",
          "text": [
            "======> Epoch: 64, global_step: 2404.0, lr: 1e-05 <======\n",
            "EVAL: Class 0: Recall: 0.2101, Precision: 0.2049, AP: 0.1206\n",
            "EVAL: Recall: 0.2101, Precison: 0.2049, mAP: 0.1206\n",
            "EVAL: loss: total: 8.85, xy: 0.40, wh: 0.30, conf: 8.14, class: 0.01\n",
            "\n"
          ],
          "name": "stdout"
        },
        {
          "output_type": "stream",
          "text": [
            "100%|██████████| 37/37 [00:21<00:00,  2.10it/s]\n",
            "100%|██████████| 37/37 [00:21<00:00,  2.11it/s]\n",
            "100%|██████████| 54/54 [00:04<00:00, 10.88it/s]\n",
            "  0%|          | 0/37 [00:00<?, ?it/s]"
          ],
          "name": "stderr"
        },
        {
          "output_type": "stream",
          "text": [
            "======> Epoch: 66, global_step: 2478.0, lr: 1e-05 <======\n",
            "EVAL: Class 0: Recall: 0.2017, Precision: 0.5000, AP: 0.1401\n",
            "EVAL: Recall: 0.2017, Precison: 0.5000, mAP: 0.1401\n",
            "EVAL: loss: total: 8.82, xy: 0.41, wh: 0.30, conf: 8.10, class: 0.01\n",
            "\n"
          ],
          "name": "stdout"
        },
        {
          "output_type": "stream",
          "text": [
            " 59%|█████▉    | 22/37 [00:13<00:08,  1.74it/s]"
          ],
          "name": "stderr"
        },
        {
          "output_type": "stream",
          "text": [
            "Epoch: 67, global_step: 2500 | loss: total: 0.01, xy: 0.01, wh: 0.01, conf: 0.00, class: 0.00 | Last batch: rec: 1.000, prec: 1.000 | lr: 1e-05\n"
          ],
          "name": "stdout"
        },
        {
          "output_type": "stream",
          "text": [
            "100%|██████████| 37/37 [00:21<00:00,  2.08it/s]\n",
            "100%|██████████| 37/37 [00:21<00:00,  2.10it/s]\n",
            "100%|██████████| 54/54 [00:04<00:00, 11.01it/s]\n",
            "  0%|          | 0/37 [00:00<?, ?it/s]"
          ],
          "name": "stderr"
        },
        {
          "output_type": "stream",
          "text": [
            "======> Epoch: 68, global_step: 2552.0, lr: 1e-05 <======\n",
            "EVAL: Class 0: Recall: 0.2017, Precision: 0.5455, AP: 0.1434\n",
            "EVAL: Recall: 0.2017, Precison: 0.5455, mAP: 0.1434\n",
            "EVAL: loss: total: 8.77, xy: 0.40, wh: 0.30, conf: 8.06, class: 0.01\n",
            "\n"
          ],
          "name": "stdout"
        },
        {
          "output_type": "stream",
          "text": [
            "100%|██████████| 37/37 [00:21<00:00,  2.11it/s]\n",
            " 30%|██▉       | 11/37 [00:07<00:15,  1.67it/s]"
          ],
          "name": "stderr"
        },
        {
          "output_type": "stream",
          "text": [
            "Epoch: 70, global_step: 2600 | loss: total: 0.01, xy: 0.01, wh: 0.01, conf: 0.00, class: 0.00 | Last batch: rec: 1.000, prec: 1.000 | lr: 1e-05\n"
          ],
          "name": "stdout"
        },
        {
          "output_type": "stream",
          "text": [
            "100%|██████████| 37/37 [00:21<00:00,  2.09it/s]\n",
            "100%|██████████| 54/54 [00:04<00:00, 11.12it/s]\n",
            "  0%|          | 0/37 [00:00<?, ?it/s]"
          ],
          "name": "stderr"
        },
        {
          "output_type": "stream",
          "text": [
            "======> Epoch: 70, global_step: 2626.0, lr: 1e-05 <======\n",
            "EVAL: Class 0: Recall: 0.2101, Precision: 0.5435, AP: 0.1513\n",
            "EVAL: Recall: 0.2101, Precison: 0.5435, mAP: 0.1513\n",
            "EVAL: loss: total: 8.77, xy: 0.40, wh: 0.31, conf: 8.05, class: 0.01\n",
            "\n"
          ],
          "name": "stdout"
        },
        {
          "output_type": "stream",
          "text": [
            "100%|██████████| 37/37 [00:21<00:00,  2.09it/s]\n",
            "100%|██████████| 37/37 [00:21<00:00,  2.09it/s]\n",
            "  2%|▏         | 1/54 [00:00<00:07,  6.64it/s]"
          ],
          "name": "stderr"
        },
        {
          "output_type": "stream",
          "text": [
            "Epoch: 72, global_step: 2700 | loss: total: 0.01, xy: 0.01, wh: 0.01, conf: 0.00, class: 0.00 | Last batch: rec: 1.000, prec: 1.000 | lr: 1e-05\n"
          ],
          "name": "stdout"
        },
        {
          "output_type": "stream",
          "text": [
            "100%|██████████| 54/54 [00:04<00:00, 10.99it/s]\n",
            "  0%|          | 0/37 [00:00<?, ?it/s]"
          ],
          "name": "stderr"
        },
        {
          "output_type": "stream",
          "text": [
            "======> Epoch: 72, global_step: 2700.0, lr: 1e-05 <======\n",
            "EVAL: Class 0: Recall: 0.2353, Precision: 0.5600, AP: 0.1744\n",
            "EVAL: Recall: 0.2353, Precison: 0.5600, mAP: 0.1744\n",
            "EVAL: loss: total: 8.74, xy: 0.40, wh: 0.30, conf: 8.03, class: 0.01\n",
            "\n"
          ],
          "name": "stdout"
        },
        {
          "output_type": "stream",
          "text": [
            "100%|██████████| 37/37 [00:21<00:00,  2.09it/s]\n",
            "100%|██████████| 37/37 [00:21<00:00,  2.09it/s]\n",
            "100%|██████████| 54/54 [00:04<00:00, 11.03it/s]\n",
            "  0%|          | 0/37 [00:00<?, ?it/s]"
          ],
          "name": "stderr"
        },
        {
          "output_type": "stream",
          "text": [
            "======> Epoch: 74, global_step: 2774.0, lr: 1e-05 <======\n",
            "EVAL: Class 0: Recall: 0.2269, Precision: 0.5745, AP: 0.1679\n",
            "EVAL: Recall: 0.2269, Precison: 0.5745, mAP: 0.1679\n",
            "EVAL: loss: total: 8.77, xy: 0.40, wh: 0.30, conf: 8.06, class: 0.01\n",
            "\n"
          ],
          "name": "stdout"
        },
        {
          "output_type": "stream",
          "text": [
            " 70%|███████   | 26/37 [00:15<00:06,  1.73it/s]"
          ],
          "name": "stderr"
        },
        {
          "output_type": "stream",
          "text": [
            "Epoch: 75, global_step: 2800 | loss: total: 0.01, xy: 0.01, wh: 0.01, conf: 0.00, class: 0.00 | Last batch: rec: 1.000, prec: 1.000 | lr: 1e-05\n"
          ],
          "name": "stdout"
        },
        {
          "output_type": "stream",
          "text": [
            "100%|██████████| 37/37 [00:21<00:00,  2.09it/s]\n",
            "100%|██████████| 37/37 [00:21<00:00,  2.08it/s]\n",
            "100%|██████████| 54/54 [00:04<00:00, 10.97it/s]\n",
            "  0%|          | 0/37 [00:00<?, ?it/s]"
          ],
          "name": "stderr"
        },
        {
          "output_type": "stream",
          "text": [
            "======> Epoch: 76, global_step: 2848.0, lr: 1e-05 <======\n",
            "EVAL: Class 0: Recall: 0.2101, Precision: 0.5556, AP: 0.1587\n",
            "EVAL: Recall: 0.2101, Precison: 0.5556, mAP: 0.1587\n",
            "EVAL: loss: total: 8.74, xy: 0.39, wh: 0.30, conf: 8.03, class: 0.01\n",
            "\n"
          ],
          "name": "stdout"
        },
        {
          "output_type": "stream",
          "text": [
            " 62%|██████▏   | 23/37 [00:13<00:07,  1.76it/s]"
          ],
          "name": "stderr"
        }
      ]
    },
    {
      "cell_type": "code",
      "metadata": {
        "id": "yu1djDPFqdx0",
        "colab_type": "code",
        "colab": {}
      },
      "source": [
        ""
      ],
      "execution_count": 0,
      "outputs": []
    },
    {
      "cell_type": "code",
      "metadata": {
        "id": "fDJBqiqgqeJ0",
        "colab_type": "code",
        "colab": {}
      },
      "source": [
        ""
      ],
      "execution_count": 0,
      "outputs": []
    }
  ]
}